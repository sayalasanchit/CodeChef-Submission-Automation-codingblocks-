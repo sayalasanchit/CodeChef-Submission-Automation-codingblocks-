{
 "cells": [
  {
   "cell_type": "code",
   "execution_count": 1,
   "metadata": {},
   "outputs": [],
   "source": [
    "from selenium import webdriver"
   ]
  },
  {
   "cell_type": "code",
   "execution_count": 2,
   "metadata": {},
   "outputs": [],
   "source": [
    "browser=webdriver.Edge('C:\\edgedriver_win64\\msedgedriver.exe')"
   ]
  },
  {
   "cell_type": "markdown",
   "metadata": {},
   "source": [
    "Note: Drivers can be downloaded from: https://selenium-python.readthedocs.io/installation.html"
   ]
  },
  {
   "cell_type": "code",
   "execution_count": 3,
   "metadata": {},
   "outputs": [],
   "source": [
    "browser.get('https://www.codechef.com/')"
   ]
  },
  {
   "cell_type": "code",
   "execution_count": 4,
   "metadata": {},
   "outputs": [],
   "source": [
    "username_element=browser.find_element_by_id('edit-name')\n",
    "password_element=browser.find_element_by_id('edit-pass')"
   ]
  },
  {
   "cell_type": "code",
   "execution_count": 5,
   "metadata": {},
   "outputs": [],
   "source": [
    "# Enter the username\n",
    "username_element.send_keys('sayalasanchit')"
   ]
  },
  {
   "cell_type": "code",
   "execution_count": 6,
   "metadata": {},
   "outputs": [
    {
     "name": "stdout",
     "output_type": "stream",
     "text": [
      "Enter the password: ········\n"
     ]
    }
   ],
   "source": [
    "# Enter the password\n",
    "from getpass import getpass\n",
    "password_element.send_keys(getpass('Enter the password: '))"
   ]
  },
  {
   "cell_type": "code",
   "execution_count": 7,
   "metadata": {},
   "outputs": [],
   "source": [
    "# Submit user details\n",
    "browser.find_element_by_id('edit-submit').click()"
   ]
  },
  {
   "cell_type": "code",
   "execution_count": 8,
   "metadata": {},
   "outputs": [],
   "source": [
    "browser.get('https://www.codechef.com/submit/TEST')"
   ]
  },
  {
   "cell_type": "code",
   "execution_count": 9,
   "metadata": {},
   "outputs": [],
   "source": [
    "# To switch to Non-IDE mode\n",
    "mode_switch=browser.find_element_by_id('edit-submit')\n",
    "if mode_switch.get_attribute('value')=='Switch to Non-IDE mode':\n",
    "    mode_switch.click()"
   ]
  },
  {
   "cell_type": "code",
   "execution_count": 41,
   "metadata": {},
   "outputs": [],
   "source": [
    "# Uncheck toggle editor\n",
    "browser.find_element_by_id('edit_area_toggle_checkbox_edit-program').click()"
   ]
  },
  {
   "cell_type": "code",
   "execution_count": 24,
   "metadata": {},
   "outputs": [],
   "source": [
    "# Reading the file containing code\n",
    "with open(\"solution.cpp\", 'r') as f:\n",
    "    code=f.read()"
   ]
  },
  {
   "cell_type": "code",
   "execution_count": 25,
   "metadata": {},
   "outputs": [
    {
     "name": "stdout",
     "output_type": "stream",
     "text": [
      "#include<iostream>\n",
      "using namespace std;\n",
      "int main(){\n",
      "\twhile(true){\n",
      "\t\tint n;\n",
      "\t\tcin >> n;\n",
      "\t\tif(n==42)\n",
      "\t\t\treturn 0;\n",
      "\t\telse\n",
      "\t\t\tcout << n << endl;\n",
      "\t}\n",
      "\treturn 0;\n",
      "}\n"
     ]
    }
   ],
   "source": [
    "print(code)"
   ]
  },
  {
   "cell_type": "code",
   "execution_count": 37,
   "metadata": {},
   "outputs": [
    {
     "data": {
      "text/plain": [
       "'#include<iostream>\\nusing namespace std;\\nint main(){\\n\\twhile(true){\\n\\t\\tint n;\\n\\t\\tcin >> n;\\n\\t\\tif(n==42)\\n\\t\\t\\treturn 0;\\n\\t\\telse\\n\\t\\t\\tcout << n << endl;\\n\\t}\\n\\treturn 0;\\n}'"
      ]
     },
     "execution_count": 37,
     "metadata": {},
     "output_type": "execute_result"
    }
   ],
   "source": [
    "code"
   ]
  },
  {
   "cell_type": "code",
   "execution_count": 46,
   "metadata": {},
   "outputs": [],
   "source": [
    "code_element=browser.find_element_by_id('edit-program')"
   ]
  },
  {
   "cell_type": "code",
   "execution_count": 48,
   "metadata": {},
   "outputs": [],
   "source": [
    "code_element.send_keys(code)"
   ]
  },
  {
   "cell_type": "code",
   "execution_count": null,
   "metadata": {},
   "outputs": [],
   "source": [
    "# Select language as c++\n",
    "browser.find_element_by_xpath('//*[@id=\"edit-language\"]/option[1]').click()"
   ]
  },
  {
   "cell_type": "code",
   "execution_count": null,
   "metadata": {},
   "outputs": [],
   "source": [
    "# Submit the code\n",
    "browser.find_element_by_id('edit-submit-1').click()"
   ]
  }
 ],
 "metadata": {
  "kernelspec": {
   "display_name": "Python 3",
   "language": "python",
   "name": "python3"
  },
  "language_info": {
   "codemirror_mode": {
    "name": "ipython",
    "version": 3
   },
   "file_extension": ".py",
   "mimetype": "text/x-python",
   "name": "python",
   "nbconvert_exporter": "python",
   "pygments_lexer": "ipython3",
   "version": "3.8.5"
  }
 },
 "nbformat": 4,
 "nbformat_minor": 4
}
